{
 "cells": [
  {
   "cell_type": "markdown",
   "id": "b328b727",
   "metadata": {},
   "source": [
    "# Генерация данных для связки user-movie"
   ]
  },
  {
   "cell_type": "code",
   "execution_count": 228,
   "id": "29956390",
   "metadata": {},
   "outputs": [],
   "source": [
    "import datetime\n",
    "import random\n",
    "import uuid\n",
    "\n",
    "import pandas as pd\n",
    "from random import randrange"
   ]
  },
  {
   "cell_type": "code",
   "execution_count": 320,
   "id": "eaffc247",
   "metadata": {},
   "outputs": [],
   "source": [
    "user_id = [str(uuid.uuid4()) for _ in range(100000)]"
   ]
  },
  {
   "cell_type": "code",
   "execution_count": 321,
   "id": "0705cb8a",
   "metadata": {},
   "outputs": [],
   "source": [
    "movie_id = [str(uuid.uuid4()) for _ in range(10000)]"
   ]
  },
  {
   "cell_type": "code",
   "execution_count": 322,
   "id": "1f12e696",
   "metadata": {},
   "outputs": [],
   "source": [
    "def get_new_list(rep_number: int, len_: int, original_list: list):\n",
    "    lst = []\n",
    "    for _ in range(rep_number):\n",
    "        lst += random.sample(original_list, len_)\n",
    "    return lst"
   ]
  },
  {
   "cell_type": "code",
   "execution_count": 323,
   "id": "e13a0047",
   "metadata": {},
   "outputs": [],
   "source": [
    "users = get_new_list(25, len(user_id), user_id)"
   ]
  },
  {
   "cell_type": "code",
   "execution_count": 324,
   "id": "089f6b86",
   "metadata": {},
   "outputs": [],
   "source": [
    "users += get_new_list(50, int(len(user_id) / 2), user_id)"
   ]
  },
  {
   "cell_type": "code",
   "execution_count": 325,
   "id": "675c6d06",
   "metadata": {},
   "outputs": [],
   "source": [
    "movies = get_new_list(10, len(movie_id), movie_id)"
   ]
  },
  {
   "cell_type": "code",
   "execution_count": 326,
   "id": "c17aa5f8",
   "metadata": {},
   "outputs": [],
   "source": [
    "movies += get_new_list(20, int(len(movie_id) / 2), movie_id)"
   ]
  },
  {
   "cell_type": "code",
   "execution_count": 327,
   "id": "983c8b43",
   "metadata": {},
   "outputs": [],
   "source": [
    "movies += get_new_list(2400, int(len(movie_id) / 5), movie_id)"
   ]
  },
  {
   "cell_type": "code",
   "execution_count": null,
   "id": "90e4f8f0",
   "metadata": {},
   "outputs": [],
   "source": []
  },
  {
   "cell_type": "code",
   "execution_count": 328,
   "id": "e481ef52",
   "metadata": {},
   "outputs": [
    {
     "data": {
      "text/plain": [
       "5000000"
      ]
     },
     "execution_count": 328,
     "metadata": {},
     "output_type": "execute_result"
    }
   ],
   "source": [
    "len(movies)"
   ]
  },
  {
   "cell_type": "code",
   "execution_count": 329,
   "id": "6cbf9ea5",
   "metadata": {},
   "outputs": [
    {
     "data": {
      "text/plain": [
       "5000000"
      ]
     },
     "execution_count": 329,
     "metadata": {},
     "output_type": "execute_result"
    }
   ],
   "source": [
    "len(users)"
   ]
  },
  {
   "cell_type": "code",
   "execution_count": 330,
   "id": "a60fdccc",
   "metadata": {},
   "outputs": [],
   "source": [
    "df_data = pd.DataFrame({\n",
    "    'user_id': users,\n",
    "    'movie_id': movies,\n",
    "})"
   ]
  },
  {
   "cell_type": "code",
   "execution_count": 331,
   "id": "20b5cfe8",
   "metadata": {},
   "outputs": [
    {
     "data": {
      "text/html": [
       "<div>\n",
       "<style scoped>\n",
       "    .dataframe tbody tr th:only-of-type {\n",
       "        vertical-align: middle;\n",
       "    }\n",
       "\n",
       "    .dataframe tbody tr th {\n",
       "        vertical-align: top;\n",
       "    }\n",
       "\n",
       "    .dataframe thead th {\n",
       "        text-align: right;\n",
       "    }\n",
       "</style>\n",
       "<table border=\"1\" class=\"dataframe\">\n",
       "  <thead>\n",
       "    <tr style=\"text-align: right;\">\n",
       "      <th></th>\n",
       "      <th>user_id</th>\n",
       "      <th>movie_id</th>\n",
       "    </tr>\n",
       "  </thead>\n",
       "  <tbody>\n",
       "    <tr>\n",
       "      <th>0</th>\n",
       "      <td>871c1108-5cd3-4919-9574-b1ae57d9a180</td>\n",
       "      <td>4321308e-0fa0-4ece-9382-356f697ba823</td>\n",
       "    </tr>\n",
       "    <tr>\n",
       "      <th>1</th>\n",
       "      <td>5294b3ff-0ccd-4b28-b9f7-0a1313a032f7</td>\n",
       "      <td>09cde2d6-23a7-4015-a05c-7b4b259920fd</td>\n",
       "    </tr>\n",
       "    <tr>\n",
       "      <th>2</th>\n",
       "      <td>1164ea22-8d62-477e-8e52-50faaedf52df</td>\n",
       "      <td>b55eb1da-f942-4b06-aaf7-e4b974a57c58</td>\n",
       "    </tr>\n",
       "    <tr>\n",
       "      <th>3</th>\n",
       "      <td>99b34ff9-cb4d-4657-8e68-da120616a59d</td>\n",
       "      <td>a9f975ec-2e43-4f5e-b222-3d2ee8a0311c</td>\n",
       "    </tr>\n",
       "    <tr>\n",
       "      <th>4</th>\n",
       "      <td>b85619a4-56b4-493c-9ee0-3fdc8f888b0c</td>\n",
       "      <td>a4219fdf-b4d2-4498-871c-968b21b0d355</td>\n",
       "    </tr>\n",
       "  </tbody>\n",
       "</table>\n",
       "</div>"
      ],
      "text/plain": [
       "                                user_id                              movie_id\n",
       "0  871c1108-5cd3-4919-9574-b1ae57d9a180  4321308e-0fa0-4ece-9382-356f697ba823\n",
       "1  5294b3ff-0ccd-4b28-b9f7-0a1313a032f7  09cde2d6-23a7-4015-a05c-7b4b259920fd\n",
       "2  1164ea22-8d62-477e-8e52-50faaedf52df  b55eb1da-f942-4b06-aaf7-e4b974a57c58\n",
       "3  99b34ff9-cb4d-4657-8e68-da120616a59d  a9f975ec-2e43-4f5e-b222-3d2ee8a0311c\n",
       "4  b85619a4-56b4-493c-9ee0-3fdc8f888b0c  a4219fdf-b4d2-4498-871c-968b21b0d355"
      ]
     },
     "execution_count": 331,
     "metadata": {},
     "output_type": "execute_result"
    }
   ],
   "source": [
    "df_data.head()"
   ]
  },
  {
   "cell_type": "code",
   "execution_count": 332,
   "id": "2bf793d9",
   "metadata": {},
   "outputs": [
    {
     "data": {
      "text/html": [
       "<div>\n",
       "<style scoped>\n",
       "    .dataframe tbody tr th:only-of-type {\n",
       "        vertical-align: middle;\n",
       "    }\n",
       "\n",
       "    .dataframe tbody tr th {\n",
       "        vertical-align: top;\n",
       "    }\n",
       "\n",
       "    .dataframe thead th {\n",
       "        text-align: right;\n",
       "    }\n",
       "</style>\n",
       "<table border=\"1\" class=\"dataframe\">\n",
       "  <thead>\n",
       "    <tr style=\"text-align: right;\">\n",
       "      <th></th>\n",
       "      <th>user_id</th>\n",
       "      <th>movie_id</th>\n",
       "    </tr>\n",
       "  </thead>\n",
       "  <tbody>\n",
       "    <tr>\n",
       "      <th>104170</th>\n",
       "      <td>36d12b77-880c-476b-b5c0-e943e41f1475</td>\n",
       "      <td>76ea692f-1c44-4080-8abd-8f35d956d494</td>\n",
       "    </tr>\n",
       "    <tr>\n",
       "      <th>107258</th>\n",
       "      <td>24ba3eb6-5414-4af4-9937-fccf3ca53a26</td>\n",
       "      <td>5a0c4619-b720-4f28-9402-f61bafc87191</td>\n",
       "    </tr>\n",
       "    <tr>\n",
       "      <th>118376</th>\n",
       "      <td>7f837432-63f1-466d-b8b4-3d4e53803b87</td>\n",
       "      <td>3c9f5729-4c68-45e4-b47c-03ffe6524f52</td>\n",
       "    </tr>\n",
       "    <tr>\n",
       "      <th>156778</th>\n",
       "      <td>67834f63-2eeb-4ed4-9977-aa528c6739cb</td>\n",
       "      <td>90d3db9d-da44-48c6-9d6d-80b22d23227b</td>\n",
       "    </tr>\n",
       "    <tr>\n",
       "      <th>169887</th>\n",
       "      <td>20fe0a26-223d-4b09-afc1-84c1e8f8f80a</td>\n",
       "      <td>b14da8b3-263a-4e3a-9ac2-b5780fb0e6ca</td>\n",
       "    </tr>\n",
       "    <tr>\n",
       "      <th>...</th>\n",
       "      <td>...</td>\n",
       "      <td>...</td>\n",
       "    </tr>\n",
       "    <tr>\n",
       "      <th>4999332</th>\n",
       "      <td>2be0887b-d106-43d3-997c-c26559f74ae6</td>\n",
       "      <td>cb493b71-e533-4616-a4ef-7ced4e1f4a31</td>\n",
       "    </tr>\n",
       "    <tr>\n",
       "      <th>4999368</th>\n",
       "      <td>fafc9f57-e9bc-4f95-a495-3c42e5257e9c</td>\n",
       "      <td>8b2b94a5-d731-42a9-b76c-63330cd4dba3</td>\n",
       "    </tr>\n",
       "    <tr>\n",
       "      <th>4999424</th>\n",
       "      <td>cd61c9e3-37af-4a2f-aaf7-12b3069f44bb</td>\n",
       "      <td>f19e26e5-84af-4c38-b515-632c3376600b</td>\n",
       "    </tr>\n",
       "    <tr>\n",
       "      <th>4999455</th>\n",
       "      <td>7dc7e47f-648b-4094-82b0-3acf64bd28fb</td>\n",
       "      <td>dc6d4920-e753-4316-b421-0fa925f62468</td>\n",
       "    </tr>\n",
       "    <tr>\n",
       "      <th>4999706</th>\n",
       "      <td>d52b59f3-861e-4aa3-aa4d-a7b8dac8f00f</td>\n",
       "      <td>6502c099-aaa4-46e0-9cfb-bcedd466f8c1</td>\n",
       "    </tr>\n",
       "  </tbody>\n",
       "</table>\n",
       "<p>12289 rows × 2 columns</p>\n",
       "</div>"
      ],
      "text/plain": [
       "                                      user_id  \\\n",
       "104170   36d12b77-880c-476b-b5c0-e943e41f1475   \n",
       "107258   24ba3eb6-5414-4af4-9937-fccf3ca53a26   \n",
       "118376   7f837432-63f1-466d-b8b4-3d4e53803b87   \n",
       "156778   67834f63-2eeb-4ed4-9977-aa528c6739cb   \n",
       "169887   20fe0a26-223d-4b09-afc1-84c1e8f8f80a   \n",
       "...                                       ...   \n",
       "4999332  2be0887b-d106-43d3-997c-c26559f74ae6   \n",
       "4999368  fafc9f57-e9bc-4f95-a495-3c42e5257e9c   \n",
       "4999424  cd61c9e3-37af-4a2f-aaf7-12b3069f44bb   \n",
       "4999455  7dc7e47f-648b-4094-82b0-3acf64bd28fb   \n",
       "4999706  d52b59f3-861e-4aa3-aa4d-a7b8dac8f00f   \n",
       "\n",
       "                                     movie_id  \n",
       "104170   76ea692f-1c44-4080-8abd-8f35d956d494  \n",
       "107258   5a0c4619-b720-4f28-9402-f61bafc87191  \n",
       "118376   3c9f5729-4c68-45e4-b47c-03ffe6524f52  \n",
       "156778   90d3db9d-da44-48c6-9d6d-80b22d23227b  \n",
       "169887   b14da8b3-263a-4e3a-9ac2-b5780fb0e6ca  \n",
       "...                                       ...  \n",
       "4999332  cb493b71-e533-4616-a4ef-7ced4e1f4a31  \n",
       "4999368  8b2b94a5-d731-42a9-b76c-63330cd4dba3  \n",
       "4999424  f19e26e5-84af-4c38-b515-632c3376600b  \n",
       "4999455  dc6d4920-e753-4316-b421-0fa925f62468  \n",
       "4999706  6502c099-aaa4-46e0-9cfb-bcedd466f8c1  \n",
       "\n",
       "[12289 rows x 2 columns]"
      ]
     },
     "execution_count": 332,
     "metadata": {},
     "output_type": "execute_result"
    }
   ],
   "source": [
    "df_data[df_data.duplicated() == True]"
   ]
  },
  {
   "cell_type": "code",
   "execution_count": 333,
   "id": "ebefd9ef",
   "metadata": {},
   "outputs": [],
   "source": [
    "df_data.drop_duplicates(inplace=True)"
   ]
  },
  {
   "cell_type": "code",
   "execution_count": null,
   "id": "47e6d5ee",
   "metadata": {},
   "outputs": [],
   "source": []
  },
  {
   "cell_type": "code",
   "execution_count": null,
   "id": "1be09229",
   "metadata": {},
   "outputs": [],
   "source": []
  },
  {
   "cell_type": "code",
   "execution_count": 334,
   "id": "a86da87d",
   "metadata": {},
   "outputs": [],
   "source": [
    "movies = get_new_list(1, 12289, movies)"
   ]
  },
  {
   "cell_type": "code",
   "execution_count": 335,
   "id": "951e8061",
   "metadata": {},
   "outputs": [],
   "source": [
    "users = get_new_list(1, 12289, users)"
   ]
  },
  {
   "cell_type": "code",
   "execution_count": 336,
   "id": "c16ac2e6",
   "metadata": {},
   "outputs": [],
   "source": [
    "df_data2 = pd.DataFrame({\n",
    "    'user_id': users,\n",
    "    'movie_id': movies,\n",
    "})"
   ]
  },
  {
   "cell_type": "code",
   "execution_count": 337,
   "id": "4c4d9ef2",
   "metadata": {},
   "outputs": [
    {
     "name": "stderr",
     "output_type": "stream",
     "text": [
      "/var/folders/bx/x6f3j_xj25g0zgtpmr37nncm0000gn/T/ipykernel_51492/2114390858.py:1: FutureWarning: The frame.append method is deprecated and will be removed from pandas in a future version. Use pandas.concat instead.\n",
      "  df_data = df_data.append(df_data2, ignore_index=True)\n"
     ]
    }
   ],
   "source": [
    "df_data = df_data.append(df_data2, ignore_index=True)"
   ]
  },
  {
   "cell_type": "code",
   "execution_count": 338,
   "id": "2d451252",
   "metadata": {},
   "outputs": [
    {
     "data": {
      "text/html": [
       "<div>\n",
       "<style scoped>\n",
       "    .dataframe tbody tr th:only-of-type {\n",
       "        vertical-align: middle;\n",
       "    }\n",
       "\n",
       "    .dataframe tbody tr th {\n",
       "        vertical-align: top;\n",
       "    }\n",
       "\n",
       "    .dataframe thead th {\n",
       "        text-align: right;\n",
       "    }\n",
       "</style>\n",
       "<table border=\"1\" class=\"dataframe\">\n",
       "  <thead>\n",
       "    <tr style=\"text-align: right;\">\n",
       "      <th></th>\n",
       "      <th>user_id</th>\n",
       "      <th>movie_id</th>\n",
       "    </tr>\n",
       "  </thead>\n",
       "  <tbody>\n",
       "    <tr>\n",
       "      <th>0</th>\n",
       "      <td>871c1108-5cd3-4919-9574-b1ae57d9a180</td>\n",
       "      <td>4321308e-0fa0-4ece-9382-356f697ba823</td>\n",
       "    </tr>\n",
       "    <tr>\n",
       "      <th>1</th>\n",
       "      <td>5294b3ff-0ccd-4b28-b9f7-0a1313a032f7</td>\n",
       "      <td>09cde2d6-23a7-4015-a05c-7b4b259920fd</td>\n",
       "    </tr>\n",
       "    <tr>\n",
       "      <th>2</th>\n",
       "      <td>1164ea22-8d62-477e-8e52-50faaedf52df</td>\n",
       "      <td>b55eb1da-f942-4b06-aaf7-e4b974a57c58</td>\n",
       "    </tr>\n",
       "    <tr>\n",
       "      <th>3</th>\n",
       "      <td>99b34ff9-cb4d-4657-8e68-da120616a59d</td>\n",
       "      <td>a9f975ec-2e43-4f5e-b222-3d2ee8a0311c</td>\n",
       "    </tr>\n",
       "    <tr>\n",
       "      <th>4</th>\n",
       "      <td>b85619a4-56b4-493c-9ee0-3fdc8f888b0c</td>\n",
       "      <td>a4219fdf-b4d2-4498-871c-968b21b0d355</td>\n",
       "    </tr>\n",
       "    <tr>\n",
       "      <th>...</th>\n",
       "      <td>...</td>\n",
       "      <td>...</td>\n",
       "    </tr>\n",
       "    <tr>\n",
       "      <th>4999995</th>\n",
       "      <td>9325af73-f3d0-4bb1-a4c2-38b4d53d38f6</td>\n",
       "      <td>0560b085-dbfe-4e91-9c30-7ab5294a8fb0</td>\n",
       "    </tr>\n",
       "    <tr>\n",
       "      <th>4999996</th>\n",
       "      <td>131491a1-6948-4017-8334-273046c3b046</td>\n",
       "      <td>f127543b-c4f5-4e47-b6cb-84d9a4f1997a</td>\n",
       "    </tr>\n",
       "    <tr>\n",
       "      <th>4999997</th>\n",
       "      <td>d97d2a57-205f-4947-9bca-79307f0e7a93</td>\n",
       "      <td>87d02ee5-8fbb-4996-9b88-205c75ef657d</td>\n",
       "    </tr>\n",
       "    <tr>\n",
       "      <th>4999998</th>\n",
       "      <td>9aa6eca3-baf5-47bb-bf05-1a2e2398ac74</td>\n",
       "      <td>678e5b96-f699-4adb-b4e0-4bfef83488f3</td>\n",
       "    </tr>\n",
       "    <tr>\n",
       "      <th>4999999</th>\n",
       "      <td>93b9c004-62dd-4b3b-a01a-cd0bc373f3ec</td>\n",
       "      <td>329eb85f-596a-4888-8066-83c459eb66fa</td>\n",
       "    </tr>\n",
       "  </tbody>\n",
       "</table>\n",
       "<p>5000000 rows × 2 columns</p>\n",
       "</div>"
      ],
      "text/plain": [
       "                                      user_id  \\\n",
       "0        871c1108-5cd3-4919-9574-b1ae57d9a180   \n",
       "1        5294b3ff-0ccd-4b28-b9f7-0a1313a032f7   \n",
       "2        1164ea22-8d62-477e-8e52-50faaedf52df   \n",
       "3        99b34ff9-cb4d-4657-8e68-da120616a59d   \n",
       "4        b85619a4-56b4-493c-9ee0-3fdc8f888b0c   \n",
       "...                                       ...   \n",
       "4999995  9325af73-f3d0-4bb1-a4c2-38b4d53d38f6   \n",
       "4999996  131491a1-6948-4017-8334-273046c3b046   \n",
       "4999997  d97d2a57-205f-4947-9bca-79307f0e7a93   \n",
       "4999998  9aa6eca3-baf5-47bb-bf05-1a2e2398ac74   \n",
       "4999999  93b9c004-62dd-4b3b-a01a-cd0bc373f3ec   \n",
       "\n",
       "                                     movie_id  \n",
       "0        4321308e-0fa0-4ece-9382-356f697ba823  \n",
       "1        09cde2d6-23a7-4015-a05c-7b4b259920fd  \n",
       "2        b55eb1da-f942-4b06-aaf7-e4b974a57c58  \n",
       "3        a9f975ec-2e43-4f5e-b222-3d2ee8a0311c  \n",
       "4        a4219fdf-b4d2-4498-871c-968b21b0d355  \n",
       "...                                       ...  \n",
       "4999995  0560b085-dbfe-4e91-9c30-7ab5294a8fb0  \n",
       "4999996  f127543b-c4f5-4e47-b6cb-84d9a4f1997a  \n",
       "4999997  87d02ee5-8fbb-4996-9b88-205c75ef657d  \n",
       "4999998  678e5b96-f699-4adb-b4e0-4bfef83488f3  \n",
       "4999999  329eb85f-596a-4888-8066-83c459eb66fa  \n",
       "\n",
       "[5000000 rows x 2 columns]"
      ]
     },
     "execution_count": 338,
     "metadata": {},
     "output_type": "execute_result"
    }
   ],
   "source": [
    "df_data"
   ]
  },
  {
   "cell_type": "code",
   "execution_count": 339,
   "id": "96242e25",
   "metadata": {},
   "outputs": [
    {
     "data": {
      "text/plain": [
       "(62, 2)"
      ]
     },
     "execution_count": 339,
     "metadata": {},
     "output_type": "execute_result"
    }
   ],
   "source": [
    "df_data[df_data.duplicated() == True].shape"
   ]
  },
  {
   "cell_type": "code",
   "execution_count": 340,
   "id": "92eb6361",
   "metadata": {},
   "outputs": [],
   "source": [
    "movies = get_new_list(1, 62, movies)"
   ]
  },
  {
   "cell_type": "code",
   "execution_count": 341,
   "id": "3eed175a",
   "metadata": {},
   "outputs": [],
   "source": [
    "users = get_new_list(1, 62, users)"
   ]
  },
  {
   "cell_type": "code",
   "execution_count": 342,
   "id": "02a6077d",
   "metadata": {},
   "outputs": [],
   "source": [
    "df_data3 = pd.DataFrame({\n",
    "    'user_id': users,\n",
    "    'movie_id': movies,\n",
    "})"
   ]
  },
  {
   "cell_type": "code",
   "execution_count": 343,
   "id": "d82a745f",
   "metadata": {},
   "outputs": [
    {
     "name": "stderr",
     "output_type": "stream",
     "text": [
      "/var/folders/bx/x6f3j_xj25g0zgtpmr37nncm0000gn/T/ipykernel_51492/3927899317.py:1: FutureWarning: The frame.append method is deprecated and will be removed from pandas in a future version. Use pandas.concat instead.\n",
      "  df_data = df_data.append(df_data3, ignore_index=True)\n"
     ]
    }
   ],
   "source": [
    "df_data = df_data.append(df_data3, ignore_index=True)"
   ]
  },
  {
   "cell_type": "code",
   "execution_count": 348,
   "id": "3600bb74",
   "metadata": {},
   "outputs": [
    {
     "data": {
      "text/plain": [
       "(62, 2)"
      ]
     },
     "execution_count": 348,
     "metadata": {},
     "output_type": "execute_result"
    }
   ],
   "source": [
    "df_data[df_data.duplicated() == True].shape"
   ]
  },
  {
   "cell_type": "code",
   "execution_count": 349,
   "id": "5ce95a60",
   "metadata": {},
   "outputs": [],
   "source": [
    "df_data.drop_duplicates(inplace=True)"
   ]
  },
  {
   "cell_type": "code",
   "execution_count": 350,
   "id": "de84832a",
   "metadata": {},
   "outputs": [
    {
     "data": {
      "text/plain": [
       "(5000000, 2)"
      ]
     },
     "execution_count": 350,
     "metadata": {},
     "output_type": "execute_result"
    }
   ],
   "source": [
    "df_data.shape"
   ]
  },
  {
   "cell_type": "code",
   "execution_count": 377,
   "id": "c4502711",
   "metadata": {},
   "outputs": [],
   "source": [
    "df_data['ids'] = [str(uuid.uuid4()) for _ in range(5000000)]"
   ]
  },
  {
   "cell_type": "code",
   "execution_count": 379,
   "id": "e988f114",
   "metadata": {},
   "outputs": [],
   "source": [
    "df_data.to_csv('user_data.csv')"
   ]
  },
  {
   "cell_type": "code",
   "execution_count": 378,
   "id": "1f25daa6",
   "metadata": {},
   "outputs": [
    {
     "data": {
      "text/html": [
       "<div>\n",
       "<style scoped>\n",
       "    .dataframe tbody tr th:only-of-type {\n",
       "        vertical-align: middle;\n",
       "    }\n",
       "\n",
       "    .dataframe tbody tr th {\n",
       "        vertical-align: top;\n",
       "    }\n",
       "\n",
       "    .dataframe thead th {\n",
       "        text-align: right;\n",
       "    }\n",
       "</style>\n",
       "<table border=\"1\" class=\"dataframe\">\n",
       "  <thead>\n",
       "    <tr style=\"text-align: right;\">\n",
       "      <th></th>\n",
       "      <th>user_id</th>\n",
       "      <th>movie_id</th>\n",
       "      <th>ids</th>\n",
       "    </tr>\n",
       "  </thead>\n",
       "  <tbody>\n",
       "    <tr>\n",
       "      <th>0</th>\n",
       "      <td>871c1108-5cd3-4919-9574-b1ae57d9a180</td>\n",
       "      <td>4321308e-0fa0-4ece-9382-356f697ba823</td>\n",
       "      <td>81b729de-4919-41b6-b559-36fcb062eb0d</td>\n",
       "    </tr>\n",
       "    <tr>\n",
       "      <th>1</th>\n",
       "      <td>5294b3ff-0ccd-4b28-b9f7-0a1313a032f7</td>\n",
       "      <td>09cde2d6-23a7-4015-a05c-7b4b259920fd</td>\n",
       "      <td>314cb7ed-1049-408e-bb51-9eab72b46f3a</td>\n",
       "    </tr>\n",
       "    <tr>\n",
       "      <th>2</th>\n",
       "      <td>1164ea22-8d62-477e-8e52-50faaedf52df</td>\n",
       "      <td>b55eb1da-f942-4b06-aaf7-e4b974a57c58</td>\n",
       "      <td>8c5c581d-8aa0-467c-9b7c-0d62a6bb102f</td>\n",
       "    </tr>\n",
       "    <tr>\n",
       "      <th>3</th>\n",
       "      <td>99b34ff9-cb4d-4657-8e68-da120616a59d</td>\n",
       "      <td>a9f975ec-2e43-4f5e-b222-3d2ee8a0311c</td>\n",
       "      <td>bfa2a714-3aad-4809-84a2-ba88ba11b881</td>\n",
       "    </tr>\n",
       "    <tr>\n",
       "      <th>4</th>\n",
       "      <td>b85619a4-56b4-493c-9ee0-3fdc8f888b0c</td>\n",
       "      <td>a4219fdf-b4d2-4498-871c-968b21b0d355</td>\n",
       "      <td>61c4e521-2734-4247-8b37-b4bc418665ef</td>\n",
       "    </tr>\n",
       "    <tr>\n",
       "      <th>...</th>\n",
       "      <td>...</td>\n",
       "      <td>...</td>\n",
       "      <td>...</td>\n",
       "    </tr>\n",
       "    <tr>\n",
       "      <th>5000057</th>\n",
       "      <td>53525b30-fa99-4cbb-9822-f815bf499df6</td>\n",
       "      <td>74b6a2e7-0540-4a43-bcb9-32069493cbed</td>\n",
       "      <td>5b917ed2-0a0b-4d62-bd91-c149bc386def</td>\n",
       "    </tr>\n",
       "    <tr>\n",
       "      <th>5000058</th>\n",
       "      <td>4e5923a3-3a85-4fa5-8855-2004efca373c</td>\n",
       "      <td>2adce97f-20bd-4bd7-9979-c6b670be3453</td>\n",
       "      <td>6335d3b3-0367-4588-b3aa-42a34688bd87</td>\n",
       "    </tr>\n",
       "    <tr>\n",
       "      <th>5000059</th>\n",
       "      <td>8c8248c9-176a-4a6e-88f8-c5f19757fa8f</td>\n",
       "      <td>1994c098-6004-468d-bde6-724049e2fd52</td>\n",
       "      <td>409ab8b3-e9cf-4049-b369-0f06486fef8e</td>\n",
       "    </tr>\n",
       "    <tr>\n",
       "      <th>5000060</th>\n",
       "      <td>4a86b4c4-02a5-4d72-9129-58f7c47d1d82</td>\n",
       "      <td>dc59802f-4841-42f7-addc-6331967874c9</td>\n",
       "      <td>99c389ec-5423-4cba-956e-460808e3979d</td>\n",
       "    </tr>\n",
       "    <tr>\n",
       "      <th>5000061</th>\n",
       "      <td>f6573573-7f18-459f-8a8f-3265862da1c2</td>\n",
       "      <td>13a3b501-5b4a-493f-bd89-42a5ac6d455f</td>\n",
       "      <td>3436d03d-7e56-46cb-a25b-bf1b6041ce03</td>\n",
       "    </tr>\n",
       "  </tbody>\n",
       "</table>\n",
       "<p>5000000 rows × 3 columns</p>\n",
       "</div>"
      ],
      "text/plain": [
       "                                      user_id  \\\n",
       "0        871c1108-5cd3-4919-9574-b1ae57d9a180   \n",
       "1        5294b3ff-0ccd-4b28-b9f7-0a1313a032f7   \n",
       "2        1164ea22-8d62-477e-8e52-50faaedf52df   \n",
       "3        99b34ff9-cb4d-4657-8e68-da120616a59d   \n",
       "4        b85619a4-56b4-493c-9ee0-3fdc8f888b0c   \n",
       "...                                       ...   \n",
       "5000057  53525b30-fa99-4cbb-9822-f815bf499df6   \n",
       "5000058  4e5923a3-3a85-4fa5-8855-2004efca373c   \n",
       "5000059  8c8248c9-176a-4a6e-88f8-c5f19757fa8f   \n",
       "5000060  4a86b4c4-02a5-4d72-9129-58f7c47d1d82   \n",
       "5000061  f6573573-7f18-459f-8a8f-3265862da1c2   \n",
       "\n",
       "                                     movie_id  \\\n",
       "0        4321308e-0fa0-4ece-9382-356f697ba823   \n",
       "1        09cde2d6-23a7-4015-a05c-7b4b259920fd   \n",
       "2        b55eb1da-f942-4b06-aaf7-e4b974a57c58   \n",
       "3        a9f975ec-2e43-4f5e-b222-3d2ee8a0311c   \n",
       "4        a4219fdf-b4d2-4498-871c-968b21b0d355   \n",
       "...                                       ...   \n",
       "5000057  74b6a2e7-0540-4a43-bcb9-32069493cbed   \n",
       "5000058  2adce97f-20bd-4bd7-9979-c6b670be3453   \n",
       "5000059  1994c098-6004-468d-bde6-724049e2fd52   \n",
       "5000060  dc59802f-4841-42f7-addc-6331967874c9   \n",
       "5000061  13a3b501-5b4a-493f-bd89-42a5ac6d455f   \n",
       "\n",
       "                                          ids  \n",
       "0        81b729de-4919-41b6-b559-36fcb062eb0d  \n",
       "1        314cb7ed-1049-408e-bb51-9eab72b46f3a  \n",
       "2        8c5c581d-8aa0-467c-9b7c-0d62a6bb102f  \n",
       "3        bfa2a714-3aad-4809-84a2-ba88ba11b881  \n",
       "4        61c4e521-2734-4247-8b37-b4bc418665ef  \n",
       "...                                       ...  \n",
       "5000057  5b917ed2-0a0b-4d62-bd91-c149bc386def  \n",
       "5000058  6335d3b3-0367-4588-b3aa-42a34688bd87  \n",
       "5000059  409ab8b3-e9cf-4049-b369-0f06486fef8e  \n",
       "5000060  99c389ec-5423-4cba-956e-460808e3979d  \n",
       "5000061  3436d03d-7e56-46cb-a25b-bf1b6041ce03  \n",
       "\n",
       "[5000000 rows x 3 columns]"
      ]
     },
     "execution_count": 378,
     "metadata": {},
     "output_type": "execute_result"
    }
   ],
   "source": [
    "df_data"
   ]
  },
  {
   "cell_type": "markdown",
   "id": "e1c49694",
   "metadata": {},
   "source": [
    "# Генерация данных для лайков пользователей"
   ]
  },
  {
   "cell_type": "code",
   "execution_count": 383,
   "id": "640bb981",
   "metadata": {},
   "outputs": [],
   "source": [
    "\n",
    "df_rating = pd.DataFrame({\n",
    "    'ids': df_data['ids'].to_list(),\n",
    "    'rating': [randrange(1, 10) for _ in range(5000000)]\n",
    "}, dtype=object)"
   ]
  },
  {
   "cell_type": "code",
   "execution_count": 384,
   "id": "30fa5495",
   "metadata": {},
   "outputs": [
    {
     "data": {
      "text/html": [
       "<div>\n",
       "<style scoped>\n",
       "    .dataframe tbody tr th:only-of-type {\n",
       "        vertical-align: middle;\n",
       "    }\n",
       "\n",
       "    .dataframe tbody tr th {\n",
       "        vertical-align: top;\n",
       "    }\n",
       "\n",
       "    .dataframe thead th {\n",
       "        text-align: right;\n",
       "    }\n",
       "</style>\n",
       "<table border=\"1\" class=\"dataframe\">\n",
       "  <thead>\n",
       "    <tr style=\"text-align: right;\">\n",
       "      <th></th>\n",
       "      <th>ids</th>\n",
       "      <th>rating</th>\n",
       "    </tr>\n",
       "  </thead>\n",
       "  <tbody>\n",
       "    <tr>\n",
       "      <th>0</th>\n",
       "      <td>81b729de-4919-41b6-b559-36fcb062eb0d</td>\n",
       "      <td>1</td>\n",
       "    </tr>\n",
       "    <tr>\n",
       "      <th>1</th>\n",
       "      <td>314cb7ed-1049-408e-bb51-9eab72b46f3a</td>\n",
       "      <td>5</td>\n",
       "    </tr>\n",
       "    <tr>\n",
       "      <th>2</th>\n",
       "      <td>8c5c581d-8aa0-467c-9b7c-0d62a6bb102f</td>\n",
       "      <td>6</td>\n",
       "    </tr>\n",
       "    <tr>\n",
       "      <th>3</th>\n",
       "      <td>bfa2a714-3aad-4809-84a2-ba88ba11b881</td>\n",
       "      <td>5</td>\n",
       "    </tr>\n",
       "    <tr>\n",
       "      <th>4</th>\n",
       "      <td>61c4e521-2734-4247-8b37-b4bc418665ef</td>\n",
       "      <td>6</td>\n",
       "    </tr>\n",
       "  </tbody>\n",
       "</table>\n",
       "</div>"
      ],
      "text/plain": [
       "                                    ids rating\n",
       "0  81b729de-4919-41b6-b559-36fcb062eb0d      1\n",
       "1  314cb7ed-1049-408e-bb51-9eab72b46f3a      5\n",
       "2  8c5c581d-8aa0-467c-9b7c-0d62a6bb102f      6\n",
       "3  bfa2a714-3aad-4809-84a2-ba88ba11b881      5\n",
       "4  61c4e521-2734-4247-8b37-b4bc418665ef      6"
      ]
     },
     "execution_count": 384,
     "metadata": {},
     "output_type": "execute_result"
    }
   ],
   "source": [
    "df_rating.head()"
   ]
  },
  {
   "cell_type": "code",
   "execution_count": 385,
   "id": "7a45bf05",
   "metadata": {},
   "outputs": [],
   "source": [
    "df_rating.to_csv('user_rating.csv')"
   ]
  },
  {
   "cell_type": "code",
   "execution_count": null,
   "id": "8fd00f83",
   "metadata": {},
   "outputs": [],
   "source": []
  },
  {
   "cell_type": "code",
   "execution_count": 404,
   "id": "0778be2c",
   "metadata": {},
   "outputs": [],
   "source": [
    "df_rating2 = pd.DataFrame({\n",
    "    'user_id': df_data['user_id'].to_list(),\n",
    "    'movie_id': df_data['movie_id'].to_list(),\n",
    "    'rating': [randrange(1, 10) for _ in range(5000000)]\n",
    "}, dtype=object)"
   ]
  },
  {
   "cell_type": "code",
   "execution_count": 405,
   "id": "184b18bc",
   "metadata": {},
   "outputs": [],
   "source": [
    "df_rating2.to_csv('user_rating2.csv')"
   ]
  },
  {
   "cell_type": "code",
   "execution_count": null,
   "id": "3a7a14d1",
   "metadata": {},
   "outputs": [],
   "source": []
  },
  {
   "cell_type": "markdown",
   "id": "80e19d0d",
   "metadata": {},
   "source": [
    "# Генерация данных для рецензии"
   ]
  },
  {
   "cell_type": "code",
   "execution_count": 373,
   "id": "20672fe9",
   "metadata": {},
   "outputs": [],
   "source": [
    "import numpy as np\n",
    "import string\n",
    "num_rows = 100000\n",
    "\n",
    "def text_generator(size=150, chars=string.ascii_letters + ' '):\n",
    "    return ''.join(random.choice(chars) for _ in range(size))\n",
    "\n",
    "data = [text_generator() for i in range(num_rows)]\n"
   ]
  },
  {
   "cell_type": "code",
   "execution_count": 397,
   "id": "a2f8cdfe",
   "metadata": {},
   "outputs": [],
   "source": [
    "\n",
    "df_review = pd.DataFrame({\n",
    "    'id': [str(uuid.uuid4()) for _ in range(100000)],\n",
    "    'user_movie_id': random.sample(df_data['ids'].to_list(), 100000),\n",
    "    'text': data,\n",
    "    'date': [datetime.datetime.today() for _ in range(100000)]\n",
    "}, dtype=object)"
   ]
  },
  {
   "cell_type": "code",
   "execution_count": 407,
   "id": "035a3049",
   "metadata": {},
   "outputs": [
    {
     "data": {
      "text/html": [
       "<div>\n",
       "<style scoped>\n",
       "    .dataframe tbody tr th:only-of-type {\n",
       "        vertical-align: middle;\n",
       "    }\n",
       "\n",
       "    .dataframe tbody tr th {\n",
       "        vertical-align: top;\n",
       "    }\n",
       "\n",
       "    .dataframe thead th {\n",
       "        text-align: right;\n",
       "    }\n",
       "</style>\n",
       "<table border=\"1\" class=\"dataframe\">\n",
       "  <thead>\n",
       "    <tr style=\"text-align: right;\">\n",
       "      <th></th>\n",
       "      <th>id</th>\n",
       "      <th>user_movie_id</th>\n",
       "      <th>text</th>\n",
       "      <th>date</th>\n",
       "    </tr>\n",
       "  </thead>\n",
       "  <tbody>\n",
       "    <tr>\n",
       "      <th>0</th>\n",
       "      <td>49b9e456-f5bc-4c29-916b-d077dcf8b75b</td>\n",
       "      <td>5ee33eab-7796-4676-a5f5-1c6fd6c1538a</td>\n",
       "      <td>CYPkLIEueVksobAOZgSbOgXjioMSqxRNTKPalTUDptKnil...</td>\n",
       "      <td>2023-01-03 00:54:44.256844</td>\n",
       "    </tr>\n",
       "    <tr>\n",
       "      <th>1</th>\n",
       "      <td>b0931e6a-c201-447c-b295-fab0691ba66d</td>\n",
       "      <td>516a1fc7-ff0d-498c-a75c-c10a4f68106c</td>\n",
       "      <td>dakvIRQStvFQycRDnBDhinBHNriawIp ijKQYBxnag tIn...</td>\n",
       "      <td>2023-01-03 00:54:44.256859</td>\n",
       "    </tr>\n",
       "    <tr>\n",
       "      <th>2</th>\n",
       "      <td>a8e957de-3411-4510-8a14-192f16e1a436</td>\n",
       "      <td>4ca3c507-14cb-4362-bbf0-0c9056d2c847</td>\n",
       "      <td>VJHhacgjqHQSxCyvZbJSAtYbjpbiFlCEBaHsNCxbQEzVZQ...</td>\n",
       "      <td>2023-01-03 00:54:44.256861</td>\n",
       "    </tr>\n",
       "    <tr>\n",
       "      <th>3</th>\n",
       "      <td>59bb65a6-59e7-4087-b581-782f323977e8</td>\n",
       "      <td>12a89c65-f9da-473c-b6e9-a8f7492de81b</td>\n",
       "      <td>gzsdrFBZAoFghWodCjyDFvLIWwIMojlmxtuFZdcZKBFwPP...</td>\n",
       "      <td>2023-01-03 00:54:44.256862</td>\n",
       "    </tr>\n",
       "    <tr>\n",
       "      <th>4</th>\n",
       "      <td>c2cc38be-85a1-438c-9682-5eeeca635ac0</td>\n",
       "      <td>a4637c7b-a2fd-450f-b13f-cf54e996973e</td>\n",
       "      <td>LtBswJYOMyAAqXquklqfdilSqCvgzalpLQoBASmKxLDLpd...</td>\n",
       "      <td>2023-01-03 00:54:44.256863</td>\n",
       "    </tr>\n",
       "  </tbody>\n",
       "</table>\n",
       "</div>"
      ],
      "text/plain": [
       "                                     id                         user_movie_id  \\\n",
       "0  49b9e456-f5bc-4c29-916b-d077dcf8b75b  5ee33eab-7796-4676-a5f5-1c6fd6c1538a   \n",
       "1  b0931e6a-c201-447c-b295-fab0691ba66d  516a1fc7-ff0d-498c-a75c-c10a4f68106c   \n",
       "2  a8e957de-3411-4510-8a14-192f16e1a436  4ca3c507-14cb-4362-bbf0-0c9056d2c847   \n",
       "3  59bb65a6-59e7-4087-b581-782f323977e8  12a89c65-f9da-473c-b6e9-a8f7492de81b   \n",
       "4  c2cc38be-85a1-438c-9682-5eeeca635ac0  a4637c7b-a2fd-450f-b13f-cf54e996973e   \n",
       "\n",
       "                                                text  \\\n",
       "0  CYPkLIEueVksobAOZgSbOgXjioMSqxRNTKPalTUDptKnil...   \n",
       "1  dakvIRQStvFQycRDnBDhinBHNriawIp ijKQYBxnag tIn...   \n",
       "2  VJHhacgjqHQSxCyvZbJSAtYbjpbiFlCEBaHsNCxbQEzVZQ...   \n",
       "3  gzsdrFBZAoFghWodCjyDFvLIWwIMojlmxtuFZdcZKBFwPP...   \n",
       "4  LtBswJYOMyAAqXquklqfdilSqCvgzalpLQoBASmKxLDLpd...   \n",
       "\n",
       "                         date  \n",
       "0  2023-01-03 00:54:44.256844  \n",
       "1  2023-01-03 00:54:44.256859  \n",
       "2  2023-01-03 00:54:44.256861  \n",
       "3  2023-01-03 00:54:44.256862  \n",
       "4  2023-01-03 00:54:44.256863  "
      ]
     },
     "execution_count": 407,
     "metadata": {},
     "output_type": "execute_result"
    }
   ],
   "source": [
    "df_review.head()"
   ]
  },
  {
   "cell_type": "code",
   "execution_count": 399,
   "id": "889af886",
   "metadata": {},
   "outputs": [],
   "source": [
    "df_review.to_csv('user_review.csv')"
   ]
  },
  {
   "cell_type": "code",
   "execution_count": 408,
   "id": "eb6b9fab",
   "metadata": {},
   "outputs": [],
   "source": [
    "\n",
    "        \n",
    "df_review2 = pd.DataFrame({\n",
    "    'user_id': df_data['user_id'].to_list()[300000:400000],\n",
    "    'movie_id': df_data['movie_id'].to_list()[300000:400000],\n",
    "    'text': data,\n",
    "    'date': [datetime.datetime.today() for _ in range(100000)]\n",
    "}, dtype=object)"
   ]
  },
  {
   "cell_type": "code",
   "execution_count": 410,
   "id": "8f5a7c18",
   "metadata": {},
   "outputs": [
    {
     "data": {
      "text/html": [
       "<div>\n",
       "<style scoped>\n",
       "    .dataframe tbody tr th:only-of-type {\n",
       "        vertical-align: middle;\n",
       "    }\n",
       "\n",
       "    .dataframe tbody tr th {\n",
       "        vertical-align: top;\n",
       "    }\n",
       "\n",
       "    .dataframe thead th {\n",
       "        text-align: right;\n",
       "    }\n",
       "</style>\n",
       "<table border=\"1\" class=\"dataframe\">\n",
       "  <thead>\n",
       "    <tr style=\"text-align: right;\">\n",
       "      <th></th>\n",
       "      <th>user_id</th>\n",
       "      <th>movie_id</th>\n",
       "      <th>text</th>\n",
       "      <th>date</th>\n",
       "    </tr>\n",
       "  </thead>\n",
       "  <tbody>\n",
       "    <tr>\n",
       "      <th>0</th>\n",
       "      <td>94f9c9a4-ee56-466a-9d21-28b0a3575996</td>\n",
       "      <td>ce666a8b-4b08-4aff-851a-70e9617a7cf3</td>\n",
       "      <td>CYPkLIEueVksobAOZgSbOgXjioMSqxRNTKPalTUDptKnil...</td>\n",
       "      <td>2023-01-03 01:01:55.755298</td>\n",
       "    </tr>\n",
       "    <tr>\n",
       "      <th>1</th>\n",
       "      <td>1498a393-ebd7-428b-beba-678f83a189e4</td>\n",
       "      <td>174c3caa-5977-4cfe-be63-de037814f65a</td>\n",
       "      <td>dakvIRQStvFQycRDnBDhinBHNriawIp ijKQYBxnag tIn...</td>\n",
       "      <td>2023-01-03 01:01:55.755315</td>\n",
       "    </tr>\n",
       "    <tr>\n",
       "      <th>2</th>\n",
       "      <td>6963789f-be66-464c-97ca-f0c502a2d01e</td>\n",
       "      <td>54d39f4a-3fce-4d2d-ab5c-7c490abd5878</td>\n",
       "      <td>VJHhacgjqHQSxCyvZbJSAtYbjpbiFlCEBaHsNCxbQEzVZQ...</td>\n",
       "      <td>2023-01-03 01:01:55.755316</td>\n",
       "    </tr>\n",
       "    <tr>\n",
       "      <th>3</th>\n",
       "      <td>9f1bdd38-6030-4f86-8585-9a3706ed0c5c</td>\n",
       "      <td>ff7a3d8f-8145-4af1-9861-b1a20cd0a34f</td>\n",
       "      <td>gzsdrFBZAoFghWodCjyDFvLIWwIMojlmxtuFZdcZKBFwPP...</td>\n",
       "      <td>2023-01-03 01:01:55.755317</td>\n",
       "    </tr>\n",
       "    <tr>\n",
       "      <th>4</th>\n",
       "      <td>f65e223a-771d-4238-94d5-418cb5c294a1</td>\n",
       "      <td>3e83f62b-79a0-4edb-92e7-938c7effb078</td>\n",
       "      <td>LtBswJYOMyAAqXquklqfdilSqCvgzalpLQoBASmKxLDLpd...</td>\n",
       "      <td>2023-01-03 01:01:55.755319</td>\n",
       "    </tr>\n",
       "  </tbody>\n",
       "</table>\n",
       "</div>"
      ],
      "text/plain": [
       "                                user_id                              movie_id  \\\n",
       "0  94f9c9a4-ee56-466a-9d21-28b0a3575996  ce666a8b-4b08-4aff-851a-70e9617a7cf3   \n",
       "1  1498a393-ebd7-428b-beba-678f83a189e4  174c3caa-5977-4cfe-be63-de037814f65a   \n",
       "2  6963789f-be66-464c-97ca-f0c502a2d01e  54d39f4a-3fce-4d2d-ab5c-7c490abd5878   \n",
       "3  9f1bdd38-6030-4f86-8585-9a3706ed0c5c  ff7a3d8f-8145-4af1-9861-b1a20cd0a34f   \n",
       "4  f65e223a-771d-4238-94d5-418cb5c294a1  3e83f62b-79a0-4edb-92e7-938c7effb078   \n",
       "\n",
       "                                                text  \\\n",
       "0  CYPkLIEueVksobAOZgSbOgXjioMSqxRNTKPalTUDptKnil...   \n",
       "1  dakvIRQStvFQycRDnBDhinBHNriawIp ijKQYBxnag tIn...   \n",
       "2  VJHhacgjqHQSxCyvZbJSAtYbjpbiFlCEBaHsNCxbQEzVZQ...   \n",
       "3  gzsdrFBZAoFghWodCjyDFvLIWwIMojlmxtuFZdcZKBFwPP...   \n",
       "4  LtBswJYOMyAAqXquklqfdilSqCvgzalpLQoBASmKxLDLpd...   \n",
       "\n",
       "                         date  \n",
       "0  2023-01-03 01:01:55.755298  \n",
       "1  2023-01-03 01:01:55.755315  \n",
       "2  2023-01-03 01:01:55.755316  \n",
       "3  2023-01-03 01:01:55.755317  \n",
       "4  2023-01-03 01:01:55.755319  "
      ]
     },
     "execution_count": 410,
     "metadata": {},
     "output_type": "execute_result"
    }
   ],
   "source": [
    "df_review2.head()"
   ]
  },
  {
   "cell_type": "code",
   "execution_count": 411,
   "id": "9ecc2e3f",
   "metadata": {},
   "outputs": [],
   "source": [
    "df_review2.to_csv('user_review2.csv')"
   ]
  },
  {
   "cell_type": "code",
   "execution_count": null,
   "id": "7462d7e6",
   "metadata": {},
   "outputs": [],
   "source": []
  },
  {
   "cell_type": "markdown",
   "id": "9c133e0d",
   "metadata": {},
   "source": [
    "# Генерация данных для закладок"
   ]
  },
  {
   "cell_type": "code",
   "execution_count": 402,
   "id": "1b5923e7",
   "metadata": {},
   "outputs": [],
   "source": [
    "bookmarks = pd.DataFrame({'user_id': df_data.user_id.to_list()[100000:200000],\n",
    "                         'movie_id': df_data.movie_id.to_list()[200000:300000]})\n"
   ]
  },
  {
   "cell_type": "code",
   "execution_count": 403,
   "id": "f5308519",
   "metadata": {},
   "outputs": [],
   "source": [
    "bookmarks.to_csv('bookmarks.csv')"
   ]
  },
  {
   "cell_type": "code",
   "execution_count": null,
   "id": "02df4521",
   "metadata": {},
   "outputs": [],
   "source": [
    "# likes: [1, 10]\n",
    "# review: text: VARCHAR, date: DateTime, author: VARCHAR\n",
    "# like/dislikes review: BINARY, rate: INT\n",
    "# bookmarks:\n"
   ]
  }
 ],
 "metadata": {
  "kernelspec": {
   "display_name": "Python 3 (ipykernel)",
   "language": "python",
   "name": "python3"
  },
  "language_info": {
   "codemirror_mode": {
    "name": "ipython",
    "version": 3
   },
   "file_extension": ".py",
   "mimetype": "text/x-python",
   "name": "python",
   "nbconvert_exporter": "python",
   "pygments_lexer": "ipython3",
   "version": "3.10.8"
  }
 },
 "nbformat": 4,
 "nbformat_minor": 5
}
