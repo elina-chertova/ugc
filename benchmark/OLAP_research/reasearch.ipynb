{
 "cells": [
  {
   "cell_type": "markdown",
   "id": "50b75747",
   "metadata": {
    "pycharm": {
     "name": "#%% md\n"
    }
   },
   "source": [
    "# Сравнение производительности OLAP систем"
   ]
  },
  {
   "cell_type": "markdown",
   "id": "36137693",
   "metadata": {
    "pycharm": {
     "name": "#%% md\n"
    }
   },
   "source": [
    "Для чистого сравнения производительности одинаковые бд + таблица для Clickhouse и Vertica"
   ]
  },
  {
   "cell_type": "code",
   "execution_count": 1,
   "id": "cf81637c",
   "metadata": {
    "pycharm": {
     "name": "#%%\n"
    }
   },
   "outputs": [],
   "source": [
    "\n",
    "import pandas as pd"
   ]
  },
  {
   "cell_type": "markdown",
   "id": "2f095973",
   "metadata": {
    "pycharm": {
     "name": "#%% md\n"
    }
   },
   "source": [
    "# Clickhouse"
   ]
  },
  {
   "cell_type": "code",
   "execution_count": 2,
   "id": "6abd83cd",
   "metadata": {
    "pycharm": {
     "name": "#%%\n"
    }
   },
   "outputs": [
    {
     "name": "stdout",
     "output_type": "stream",
     "text": [
      "CPU times: user 17.8 s, sys: 3.69 s, total: 21.5 s\n",
      "Wall time: 23.1 s\n"
     ]
    }
   ],
   "source": [
    "%%time\n",
    "\n",
    "df = pd.read_csv('/Users/elinachertova/PycharmProjects/UGC_service/ugc/storage_research/views_data.csv')"
   ]
  },
  {
   "cell_type": "code",
   "execution_count": 3,
   "id": "a9c60be4",
   "metadata": {
    "pycharm": {
     "name": "#%%\n"
    }
   },
   "outputs": [
    {
     "name": "stdout",
     "output_type": "stream",
     "text": [
      "CPU times: user 420 ms, sys: 1.56 s, total: 1.98 s\n",
      "Wall time: 2.99 s\n"
     ]
    }
   ],
   "source": [
    "%%time\n",
    "filename = '/Users/elinachertova/PycharmProjects/UGC_service/ugc/storage_research/views_data.csv'\n",
    "file = open(filename, 'r').read()"
   ]
  },
  {
   "cell_type": "code",
   "execution_count": 71,
   "id": "ee9d421f",
   "metadata": {
    "pycharm": {
     "name": "#%%\n"
    }
   },
   "outputs": [
    {
     "data": {
      "text/plain": [
       "'/Users/elinachertova/PycharmProjects/UGC_service/ugc/storage_research/views_data.csv'"
      ]
     },
     "execution_count": 71,
     "metadata": {},
     "output_type": "execute_result"
    }
   ],
   "source": []
  },
  {
   "cell_type": "code",
   "execution_count": 4,
   "id": "22ced540",
   "metadata": {
    "pycharm": {
     "name": "#%%\n"
    }
   },
   "outputs": [
    {
     "data": {
      "text/plain": [
       "(10000000, 7)"
      ]
     },
     "execution_count": 4,
     "metadata": {},
     "output_type": "execute_result"
    }
   ],
   "source": [
    "df.shape"
   ]
  },
  {
   "cell_type": "code",
   "execution_count": 5,
   "id": "87d5ac1c",
   "metadata": {
    "pycharm": {
     "name": "#%%\n"
    }
   },
   "outputs": [
    {
     "data": {
      "text/plain": [
       "Index(['Unnamed: 0', 'id', 'user_id', 'movie_id', 'views_time', 'movie_time',\n",
       "       'event_time'],\n",
       "      dtype='object')"
      ]
     },
     "execution_count": 5,
     "metadata": {},
     "output_type": "execute_result"
    }
   ],
   "source": [
    "df.columns"
   ]
  },
  {
   "cell_type": "code",
   "execution_count": 6,
   "id": "3144c5a6",
   "metadata": {
    "pycharm": {
     "name": "#%%\n"
    }
   },
   "outputs": [
    {
     "data": {
      "text/html": [
       "<div>\n",
       "<style scoped>\n",
       "    .dataframe tbody tr th:only-of-type {\n",
       "        vertical-align: middle;\n",
       "    }\n",
       "\n",
       "    .dataframe tbody tr th {\n",
       "        vertical-align: top;\n",
       "    }\n",
       "\n",
       "    .dataframe thead th {\n",
       "        text-align: right;\n",
       "    }\n",
       "</style>\n",
       "<table border=\"1\" class=\"dataframe\">\n",
       "  <thead>\n",
       "    <tr style=\"text-align: right;\">\n",
       "      <th></th>\n",
       "      <th>Unnamed: 0</th>\n",
       "      <th>id</th>\n",
       "      <th>user_id</th>\n",
       "      <th>movie_id</th>\n",
       "      <th>views_time</th>\n",
       "      <th>movie_time</th>\n",
       "      <th>event_time</th>\n",
       "    </tr>\n",
       "  </thead>\n",
       "  <tbody>\n",
       "    <tr>\n",
       "      <th>0</th>\n",
       "      <td>0</td>\n",
       "      <td>0</td>\n",
       "      <td>44699f18-e1f2-4ecf-bd79-b5b34896757d</td>\n",
       "      <td>80819ce6-8266-425f-9e40-ac48732aeefc</td>\n",
       "      <td>15280</td>\n",
       "      <td>6345</td>\n",
       "      <td>2022-12-23 22:56:37.646839</td>\n",
       "    </tr>\n",
       "    <tr>\n",
       "      <th>1</th>\n",
       "      <td>1</td>\n",
       "      <td>1</td>\n",
       "      <td>7a169ccd-1885-48d0-90c6-a0fda6e4a1de</td>\n",
       "      <td>0aa12756-52a8-4e1a-9c45-a23a2f09f27f</td>\n",
       "      <td>15458</td>\n",
       "      <td>24974</td>\n",
       "      <td>2022-12-23 22:56:37.657832</td>\n",
       "    </tr>\n",
       "  </tbody>\n",
       "</table>\n",
       "</div>"
      ],
      "text/plain": [
       "   Unnamed: 0  id                               user_id  \\\n",
       "0           0   0  44699f18-e1f2-4ecf-bd79-b5b34896757d   \n",
       "1           1   1  7a169ccd-1885-48d0-90c6-a0fda6e4a1de   \n",
       "\n",
       "                               movie_id  views_time  movie_time  \\\n",
       "0  80819ce6-8266-425f-9e40-ac48732aeefc       15280        6345   \n",
       "1  0aa12756-52a8-4e1a-9c45-a23a2f09f27f       15458       24974   \n",
       "\n",
       "                   event_time  \n",
       "0  2022-12-23 22:56:37.646839  \n",
       "1  2022-12-23 22:56:37.657832  "
      ]
     },
     "execution_count": 6,
     "metadata": {},
     "output_type": "execute_result"
    }
   ],
   "source": [
    "df.head(2)\n"
   ]
  },
  {
   "cell_type": "code",
   "execution_count": 7,
   "id": "7e7e6ae1",
   "metadata": {
    "pycharm": {
     "name": "#%%\n"
    }
   },
   "outputs": [],
   "source": [
    "df = df[['id', 'user_id', 'movie_id', 'views_time', 'movie_time', 'event_time']]\n",
    "# [:5000000]"
   ]
  },
  {
   "cell_type": "code",
   "execution_count": 99,
   "id": "9013fb9b",
   "metadata": {
    "pycharm": {
     "name": "#%%\n"
    }
   },
   "outputs": [],
   "source": [
    "from clickhouse_driver import Client\n",
    "\n",
    "client = Client(host='localhost', settings={\"use_numpy\": True})"
   ]
  },
  {
   "cell_type": "code",
   "execution_count": 54,
   "id": "511b0fd1",
   "metadata": {
    "pycharm": {
     "name": "#%%\n"
    }
   },
   "outputs": [],
   "source": [
    "# client.execute('DROP TABLE test.views;')\n",
    "# client.execute('DROP DATABASE test;')"
   ]
  },
  {
   "cell_type": "code",
   "execution_count": null,
   "id": "ec0c5d1e",
   "metadata": {
    "pycharm": {
     "name": "#%%\n"
    }
   },
   "outputs": [],
   "source": []
  },
  {
   "cell_type": "code",
   "execution_count": 56,
   "id": "0dd4376c",
   "metadata": {
    "pycharm": {
     "name": "#%%\n"
    }
   },
   "outputs": [
    {
     "data": {
      "text/plain": [
       "[array(['clickhouse-node1', 9000, 0, '', 3, 0], dtype=object),\n",
       " array(['clickhouse-node3', 9000, 0, '', 2, 0], dtype=object),\n",
       " array(['clickhouse-node4', 9000, 0, '', 1, 0], dtype=object),\n",
       " array(['clickhouse-node2', 9000, 0, '', 0, 0], dtype=object)]"
      ]
     },
     "execution_count": 56,
     "metadata": {},
     "output_type": "execute_result"
    }
   ],
   "source": [
    "client.execute('CREATE DATABASE IF NOT EXISTS test ON CLUSTER company_cluster')\n",
    "\n"
   ]
  },
  {
   "cell_type": "code",
   "execution_count": 57,
   "id": "269a0c2e",
   "metadata": {
    "pycharm": {
     "name": "#%%\n"
    }
   },
   "outputs": [
    {
     "data": {
      "text/plain": [
       "[array(['clickhouse-node1', 9000, 0, '', 3, 0], dtype=object),\n",
       " array(['clickhouse-node3', 9000, 0, '', 2, 0], dtype=object),\n",
       " array(['clickhouse-node2', 9000, 0, '', 1, 0], dtype=object),\n",
       " array(['clickhouse-node4', 9000, 0, '', 0, 0], dtype=object)]"
      ]
     },
     "execution_count": 57,
     "metadata": {},
     "output_type": "execute_result"
    }
   ],
   "source": [
    "client.execute('CREATE TABLE test.views ON CLUSTER company_cluster (id Int64, user_id UUID, movie_id UUID, views_time UInt16, movie_time UInt16, event_time DateTime) Engine=MergeTree() ORDER BY id')\n",
    "\n"
   ]
  },
  {
   "cell_type": "code",
   "execution_count": null,
   "id": "df57689d",
   "metadata": {
    "pycharm": {
     "name": "#%%\n"
    }
   },
   "outputs": [],
   "source": []
  },
  {
   "cell_type": "markdown",
   "id": "f070d902",
   "metadata": {
    "pycharm": {
     "name": "#%% md\n"
    }
   },
   "source": [
    "## Вставка таблицы "
   ]
  },
  {
   "cell_type": "markdown",
   "id": "1e55394b",
   "metadata": {
    "pycharm": {
     "name": "#%% md\n"
    }
   },
   "source": [
    "### Вставка пачкой по 5000"
   ]
  },
  {
   "cell_type": "code",
   "execution_count": 97,
   "id": "6306c684",
   "metadata": {
    "pycharm": {
     "name": "#%%\n"
    }
   },
   "outputs": [],
   "source": [
    "query = 'INSERT INTO test.views VALUES'\n",
    "step = 5000"
   ]
  },
  {
   "cell_type": "code",
   "execution_count": 59,
   "id": "a12fee1a",
   "metadata": {
    "pycharm": {
     "name": "#%%\n"
    }
   },
   "outputs": [
    {
     "name": "stdout",
     "output_type": "stream",
     "text": [
      "CPU times: user 56 s, sys: 2.83 s, total: 58.8 s\n",
      "Wall time: 1min 37s\n"
     ]
    }
   ],
   "source": [
    "%%time\n",
    "for i in range(0, df.shape[0], step):\n",
    "    batch = df[i:i+step].copy()\n",
    "    client.insert_dataframe(query, batch)"
   ]
  },
  {
   "cell_type": "markdown",
   "id": "5302aa68",
   "metadata": {
    "pycharm": {
     "name": "#%% md\n"
    }
   },
   "source": [
    "### Вставка 1000 строк пачкой по 3"
   ]
  },
  {
   "cell_type": "code",
   "execution_count": 100,
   "id": "e1f6c068",
   "metadata": {
    "pycharm": {
     "name": "#%%\n"
    }
   },
   "outputs": [
    {
     "name": "stdout",
     "output_type": "stream",
     "text": [
      "CPU times: user 1.1 s, sys: 160 ms, total: 1.26 s\n",
      "Wall time: 4.35 s\n"
     ]
    }
   ],
   "source": [
    "%%time\n",
    "step = 3\n",
    "for i in range(0, 1000, step):\n",
    "    batch = df[i:i+step].copy()\n",
    "    client.insert_dataframe(query, batch)"
   ]
  },
  {
   "cell_type": "code",
   "execution_count": null,
   "id": "398eb1c4",
   "metadata": {
    "pycharm": {
     "name": "#%%\n"
    }
   },
   "outputs": [],
   "source": []
  },
  {
   "cell_type": "code",
   "execution_count": 12,
   "id": "160ce538",
   "metadata": {
    "pycharm": {
     "name": "#%%\n"
    }
   },
   "outputs": [
    {
     "data": {
      "text/html": [
       "<div>\n",
       "<style scoped>\n",
       "    .dataframe tbody tr th:only-of-type {\n",
       "        vertical-align: middle;\n",
       "    }\n",
       "\n",
       "    .dataframe tbody tr th {\n",
       "        vertical-align: top;\n",
       "    }\n",
       "\n",
       "    .dataframe thead th {\n",
       "        text-align: right;\n",
       "    }\n",
       "</style>\n",
       "<table border=\"1\" class=\"dataframe\">\n",
       "  <thead>\n",
       "    <tr style=\"text-align: right;\">\n",
       "      <th></th>\n",
       "      <th>id</th>\n",
       "      <th>user_id</th>\n",
       "      <th>movie_id</th>\n",
       "      <th>views_time</th>\n",
       "      <th>movie_time</th>\n",
       "      <th>event_time</th>\n",
       "    </tr>\n",
       "  </thead>\n",
       "  <tbody>\n",
       "    <tr>\n",
       "      <th>0</th>\n",
       "      <td>0</td>\n",
       "      <td>44699f18-e1f2-4ecf-bd79-b5b34896757d</td>\n",
       "      <td>80819ce6-8266-425f-9e40-ac48732aeefc</td>\n",
       "      <td>15280</td>\n",
       "      <td>6345</td>\n",
       "      <td>2022-12-23 22:56:37.646839</td>\n",
       "    </tr>\n",
       "    <tr>\n",
       "      <th>1</th>\n",
       "      <td>1</td>\n",
       "      <td>7a169ccd-1885-48d0-90c6-a0fda6e4a1de</td>\n",
       "      <td>0aa12756-52a8-4e1a-9c45-a23a2f09f27f</td>\n",
       "      <td>15458</td>\n",
       "      <td>24974</td>\n",
       "      <td>2022-12-23 22:56:37.657832</td>\n",
       "    </tr>\n",
       "    <tr>\n",
       "      <th>2</th>\n",
       "      <td>2</td>\n",
       "      <td>f3ee00c2-5ab4-4388-947e-9003340ada16</td>\n",
       "      <td>36153728-96cd-4a6c-a085-24cf81f1a747</td>\n",
       "      <td>867</td>\n",
       "      <td>35371</td>\n",
       "      <td>2022-12-23 22:56:37.657912</td>\n",
       "    </tr>\n",
       "    <tr>\n",
       "      <th>3</th>\n",
       "      <td>3</td>\n",
       "      <td>af16cedc-aa9b-4f41-b2b9-35b45bd031a7</td>\n",
       "      <td>04714c8e-f720-4dc6-92a8-66e9068f04f9</td>\n",
       "      <td>22079</td>\n",
       "      <td>1687</td>\n",
       "      <td>2022-12-23 22:56:37.657915</td>\n",
       "    </tr>\n",
       "    <tr>\n",
       "      <th>4</th>\n",
       "      <td>4</td>\n",
       "      <td>647a3948-d905-4356-8aa5-a2a24f878547</td>\n",
       "      <td>73ab4320-7c07-4058-b08a-abb6dfda9081</td>\n",
       "      <td>9868</td>\n",
       "      <td>20293</td>\n",
       "      <td>2022-12-23 22:56:37.657917</td>\n",
       "    </tr>\n",
       "  </tbody>\n",
       "</table>\n",
       "</div>"
      ],
      "text/plain": [
       "   id                               user_id  \\\n",
       "0   0  44699f18-e1f2-4ecf-bd79-b5b34896757d   \n",
       "1   1  7a169ccd-1885-48d0-90c6-a0fda6e4a1de   \n",
       "2   2  f3ee00c2-5ab4-4388-947e-9003340ada16   \n",
       "3   3  af16cedc-aa9b-4f41-b2b9-35b45bd031a7   \n",
       "4   4  647a3948-d905-4356-8aa5-a2a24f878547   \n",
       "\n",
       "                               movie_id  views_time  movie_time  \\\n",
       "0  80819ce6-8266-425f-9e40-ac48732aeefc       15280        6345   \n",
       "1  0aa12756-52a8-4e1a-9c45-a23a2f09f27f       15458       24974   \n",
       "2  36153728-96cd-4a6c-a085-24cf81f1a747         867       35371   \n",
       "3  04714c8e-f720-4dc6-92a8-66e9068f04f9       22079        1687   \n",
       "4  73ab4320-7c07-4058-b08a-abb6dfda9081        9868       20293   \n",
       "\n",
       "                   event_time  \n",
       "0  2022-12-23 22:56:37.646839  \n",
       "1  2022-12-23 22:56:37.657832  \n",
       "2  2022-12-23 22:56:37.657912  \n",
       "3  2022-12-23 22:56:37.657915  \n",
       "4  2022-12-23 22:56:37.657917  "
      ]
     },
     "execution_count": 12,
     "metadata": {},
     "output_type": "execute_result"
    }
   ],
   "source": [
    "df.head()"
   ]
  },
  {
   "cell_type": "code",
   "execution_count": 65,
   "id": "30011c5e",
   "metadata": {
    "pycharm": {
     "name": "#%%\n"
    }
   },
   "outputs": [
    {
     "data": {
      "text/html": [
       "<div>\n",
       "<style scoped>\n",
       "    .dataframe tbody tr th:only-of-type {\n",
       "        vertical-align: middle;\n",
       "    }\n",
       "\n",
       "    .dataframe tbody tr th {\n",
       "        vertical-align: top;\n",
       "    }\n",
       "\n",
       "    .dataframe thead th {\n",
       "        text-align: right;\n",
       "    }\n",
       "</style>\n",
       "<table border=\"1\" class=\"dataframe\">\n",
       "  <thead>\n",
       "    <tr style=\"text-align: right;\">\n",
       "      <th></th>\n",
       "      <th>id</th>\n",
       "      <th>user_id</th>\n",
       "      <th>movie_id</th>\n",
       "      <th>views_time</th>\n",
       "      <th>movie_time</th>\n",
       "      <th>event_time</th>\n",
       "    </tr>\n",
       "  </thead>\n",
       "  <tbody>\n",
       "    <tr>\n",
       "      <th>9999995</th>\n",
       "      <td>9999995</td>\n",
       "      <td>047e43b0-385f-47cb-82c2-c29f9a52509d</td>\n",
       "      <td>b5aa31ce-5990-496a-9142-f2beeb354eb6</td>\n",
       "      <td>24774</td>\n",
       "      <td>3559</td>\n",
       "      <td>2022-12-23 22:56:49.083412</td>\n",
       "    </tr>\n",
       "    <tr>\n",
       "      <th>9999996</th>\n",
       "      <td>9999996</td>\n",
       "      <td>088b3bac-0ec7-4ad8-95e1-4cb64cf1f382</td>\n",
       "      <td>bbba2af4-6b09-4802-bee3-d1b33ee77d8e</td>\n",
       "      <td>26056</td>\n",
       "      <td>26361</td>\n",
       "      <td>2022-12-23 22:56:49.083413</td>\n",
       "    </tr>\n",
       "    <tr>\n",
       "      <th>9999997</th>\n",
       "      <td>9999997</td>\n",
       "      <td>347a3132-ffeb-485d-9672-22b890854f2b</td>\n",
       "      <td>b601b430-f4c2-4a45-9618-05d02b1e9141</td>\n",
       "      <td>22003</td>\n",
       "      <td>2487</td>\n",
       "      <td>2022-12-23 22:56:49.083414</td>\n",
       "    </tr>\n",
       "    <tr>\n",
       "      <th>9999998</th>\n",
       "      <td>9999998</td>\n",
       "      <td>82d4b620-3caf-46df-b1e1-7fb2e0a88255</td>\n",
       "      <td>c041e35a-ccf9-47ff-ad7c-d6b8bcb659b9</td>\n",
       "      <td>24279</td>\n",
       "      <td>19364</td>\n",
       "      <td>2022-12-23 22:56:49.083415</td>\n",
       "    </tr>\n",
       "    <tr>\n",
       "      <th>9999999</th>\n",
       "      <td>9999999</td>\n",
       "      <td>45c97ad0-1b07-4379-af96-58d4fb904850</td>\n",
       "      <td>4e8e769e-59dc-4d88-a502-381f3a34b29f</td>\n",
       "      <td>9145</td>\n",
       "      <td>32280</td>\n",
       "      <td>2022-12-23 22:56:49.083416</td>\n",
       "    </tr>\n",
       "  </tbody>\n",
       "</table>\n",
       "</div>"
      ],
      "text/plain": [
       "              id                               user_id  \\\n",
       "9999995  9999995  047e43b0-385f-47cb-82c2-c29f9a52509d   \n",
       "9999996  9999996  088b3bac-0ec7-4ad8-95e1-4cb64cf1f382   \n",
       "9999997  9999997  347a3132-ffeb-485d-9672-22b890854f2b   \n",
       "9999998  9999998  82d4b620-3caf-46df-b1e1-7fb2e0a88255   \n",
       "9999999  9999999  45c97ad0-1b07-4379-af96-58d4fb904850   \n",
       "\n",
       "                                     movie_id  views_time  movie_time  \\\n",
       "9999995  b5aa31ce-5990-496a-9142-f2beeb354eb6       24774        3559   \n",
       "9999996  bbba2af4-6b09-4802-bee3-d1b33ee77d8e       26056       26361   \n",
       "9999997  b601b430-f4c2-4a45-9618-05d02b1e9141       22003        2487   \n",
       "9999998  c041e35a-ccf9-47ff-ad7c-d6b8bcb659b9       24279       19364   \n",
       "9999999  4e8e769e-59dc-4d88-a502-381f3a34b29f        9145       32280   \n",
       "\n",
       "                         event_time  \n",
       "9999995  2022-12-23 22:56:49.083412  \n",
       "9999996  2022-12-23 22:56:49.083413  \n",
       "9999997  2022-12-23 22:56:49.083414  \n",
       "9999998  2022-12-23 22:56:49.083415  \n",
       "9999999  2022-12-23 22:56:49.083416  "
      ]
     },
     "execution_count": 65,
     "metadata": {},
     "output_type": "execute_result"
    }
   ],
   "source": [
    "df.tail()"
   ]
  },
  {
   "cell_type": "markdown",
   "id": "c834ba0f",
   "metadata": {
    "pycharm": {
     "name": "#%% md\n"
    }
   },
   "source": [
    "## Чтение таблицы "
   ]
  },
  {
   "cell_type": "markdown",
   "id": "a9c3d29e",
   "metadata": {
    "pycharm": {
     "name": "#%% md\n"
    }
   },
   "source": [
    "### Вся таблица "
   ]
  },
  {
   "cell_type": "code",
   "execution_count": 61,
   "id": "bc962d17",
   "metadata": {
    "pycharm": {
     "name": "#%%\n"
    }
   },
   "outputs": [
    {
     "name": "stdout",
     "output_type": "stream",
     "text": [
      "CPU times: user 48.6 s, sys: 4.28 s, total: 52.9 s\n",
      "Wall time: 57.1 s\n"
     ]
    }
   ],
   "source": [
    "%%time\n",
    "data = client.execute('SELECT * FROM test.views LIMIT 10000000')"
   ]
  },
  {
   "cell_type": "code",
   "execution_count": 101,
   "id": "609820ef",
   "metadata": {
    "pycharm": {
     "name": "#%%\n"
    }
   },
   "outputs": [
    {
     "name": "stdout",
     "output_type": "stream",
     "text": [
      "CPU times: user 12.3 s, sys: 5.26 s, total: 17.6 s\n",
      "Wall time: 22.3 s\n"
     ]
    }
   ],
   "source": [
    "%%time\n",
    "data = client.execute('SELECT * FROM test.views LIMIT 1554500')"
   ]
  },
  {
   "cell_type": "markdown",
   "id": "a10622db",
   "metadata": {
    "pycharm": {
     "name": "#%% md\n"
    }
   },
   "source": [
    "### SELECT + WHERE"
   ]
  },
  {
   "cell_type": "code",
   "execution_count": 64,
   "id": "99e97c84",
   "metadata": {
    "pycharm": {
     "name": "#%%\n"
    }
   },
   "outputs": [
    {
     "name": "stdout",
     "output_type": "stream",
     "text": [
      "CPU times: user 7.78 ms, sys: 29.1 ms, total: 36.8 ms\n",
      "Wall time: 1.46 s\n"
     ]
    },
    {
     "data": {
      "text/plain": [
       "[array([4, UUID('647a3948-d905-4356-8aa5-a2a24f878547'),\n",
       "        UUID('73ab4320-7c07-4058-b08a-abb6dfda9081'), 9868, 20293,\n",
       "        datetime.datetime(2022, 12, 23, 22, 56, 37)], dtype=object)]"
      ]
     },
     "execution_count": 64,
     "metadata": {},
     "output_type": "execute_result"
    }
   ],
   "source": [
    "%%time\n",
    "client.execute(\"SELECT * FROM test.views WHERE user_id='647a3948-d905-4356-8aa5-a2a24f878547'\")"
   ]
  },
  {
   "cell_type": "code",
   "execution_count": 66,
   "id": "727b1444",
   "metadata": {
    "pycharm": {
     "name": "#%%\n"
    }
   },
   "outputs": [
    {
     "name": "stdout",
     "output_type": "stream",
     "text": [
      "CPU times: user 5.8 ms, sys: 12 ms, total: 17.8 ms\n",
      "Wall time: 413 ms\n"
     ]
    },
    {
     "data": {
      "text/plain": [
       "[array([9999996, UUID('088b3bac-0ec7-4ad8-95e1-4cb64cf1f382'),\n",
       "        UUID('bbba2af4-6b09-4802-bee3-d1b33ee77d8e'), 26056, 26361,\n",
       "        datetime.datetime(2022, 12, 23, 22, 56, 49)], dtype=object)]"
      ]
     },
     "execution_count": 66,
     "metadata": {},
     "output_type": "execute_result"
    }
   ],
   "source": [
    "%%time\n",
    "client.execute(\"SELECT * FROM test.views WHERE user_id='088b3bac-0ec7-4ad8-95e1-4cb64cf1f382'\")"
   ]
  },
  {
   "cell_type": "code",
   "execution_count": 67,
   "id": "4b8b4546",
   "metadata": {
    "pycharm": {
     "name": "#%%\n"
    }
   },
   "outputs": [
    {
     "name": "stdout",
     "output_type": "stream",
     "text": [
      "CPU times: user 5.91 ms, sys: 10.3 ms, total: 16.2 ms\n",
      "Wall time: 775 ms\n"
     ]
    },
    {
     "data": {
      "text/plain": [
       "[array([9999998, UUID('82d4b620-3caf-46df-b1e1-7fb2e0a88255'),\n",
       "        UUID('c041e35a-ccf9-47ff-ad7c-d6b8bcb659b9'), 24279, 19364,\n",
       "        datetime.datetime(2022, 12, 23, 22, 56, 49)], dtype=object)]"
      ]
     },
     "execution_count": 67,
     "metadata": {},
     "output_type": "execute_result"
    }
   ],
   "source": [
    "%%time\n",
    "client.execute(\"SELECT * FROM test.views WHERE movie_id='c041e35a-ccf9-47ff-ad7c-d6b8bcb659b9'\")"
   ]
  },
  {
   "cell_type": "markdown",
   "id": "d2171cb4",
   "metadata": {
    "pycharm": {
     "name": "#%% md\n"
    }
   },
   "source": [
    "### Real-time "
   ]
  },
  {
   "cell_type": "markdown",
   "id": "2b97aee5",
   "metadata": {
    "pycharm": {
     "name": "#%% md\n"
    }
   },
   "source": [
    "Часть кода (файл check_insert) выполняет вставку, пока данный тест проверяет чтение."
   ]
  },
  {
   "cell_type": "code",
   "execution_count": 68,
   "id": "4817bfe4",
   "metadata": {
    "pycharm": {
     "name": "#%%\n"
    }
   },
   "outputs": [
    {
     "name": "stdout",
     "output_type": "stream",
     "text": [
      "CPU times: user 7.3 ms, sys: 22.5 ms, total: 29.8 ms\n",
      "Wall time: 531 ms\n"
     ]
    },
    {
     "data": {
      "text/plain": [
       "[array([4, UUID('647a3948-d905-4356-8aa5-a2a24f878547'),\n",
       "        UUID('73ab4320-7c07-4058-b08a-abb6dfda9081'), 9868, 20293,\n",
       "        datetime.datetime(2022, 12, 23, 22, 56, 37)], dtype=object),\n",
       " array([4, UUID('647a3948-d905-4356-8aa5-a2a24f878547'),\n",
       "        UUID('73ab4320-7c07-4058-b08a-abb6dfda9081'), 9868, 20293,\n",
       "        datetime.datetime(2022, 12, 23, 22, 56, 37)], dtype=object)]"
      ]
     },
     "execution_count": 68,
     "metadata": {},
     "output_type": "execute_result"
    }
   ],
   "source": [
    "%%time\n",
    "client.execute(\"SELECT * FROM test.views WHERE user_id='647a3948-d905-4356-8aa5-a2a24f878547'\")"
   ]
  },
  {
   "cell_type": "code",
   "execution_count": null,
   "id": "22ac4461",
   "metadata": {
    "pycharm": {
     "name": "#%%\n"
    }
   },
   "outputs": [],
   "source": []
  },
  {
   "cell_type": "markdown",
   "id": "c694c793",
   "metadata": {
    "pycharm": {
     "name": "#%% md\n"
    }
   },
   "source": [
    "# Vertica"
   ]
  },
  {
   "cell_type": "code",
   "execution_count": 102,
   "id": "a4adaa6b",
   "metadata": {
    "pycharm": {
     "name": "#%%\n"
    }
   },
   "outputs": [],
   "source": [
    "import vertica_python\n",
    "\n",
    "connection_info = {\n",
    "    'host': '127.0.0.1',\n",
    "    'port': 5433,\n",
    "    'user': 'dbadmin',\n",
    "    'password': '',\n",
    "    'database': 'docker',\n",
    "    'autocommit': True,\n",
    "}"
   ]
  },
  {
   "cell_type": "code",
   "execution_count": 111,
   "id": "856c1806",
   "metadata": {
    "pycharm": {
     "name": "#%%\n"
    }
   },
   "outputs": [],
   "source": [
    "connection = vertica_python.connect(**connection_info)\n",
    "cursor = connection.cursor()"
   ]
  },
  {
   "cell_type": "code",
   "execution_count": 112,
   "id": "3f9f3e03",
   "metadata": {
    "pycharm": {
     "name": "#%%\n"
    }
   },
   "outputs": [
    {
     "data": {
      "text/plain": [
       "<vertica_python.vertica.cursor.Cursor at 0x7fa297effb20>"
      ]
     },
     "execution_count": 112,
     "metadata": {},
     "output_type": "execute_result"
    }
   ],
   "source": [
    "\n",
    "cursor.execute(\"\"\"\n",
    "    CREATE TABLE views (\n",
    "        id INTEGER NOT NULL,\n",
    "        user_id UUID NOT NULL,\n",
    "        movie_id UUID NOT NULL,\n",
    "        views_time INTEGER NOT NULL,\n",
    "        movie_time INTEGER NOT NULL,\n",
    "        event_time Datetime NOT NULL\n",
    "    );\"\"\")"
   ]
  },
  {
   "cell_type": "code",
   "execution_count": 113,
   "id": "6c1e39d5",
   "metadata": {
    "pycharm": {
     "name": "#%%\n"
    }
   },
   "outputs": [],
   "source": [
    "\n",
    "list_of_tuples = df[['user_id', 'movie_id', 'views_time', 'movie_time', 'event_time']].to_records().tolist()"
   ]
  },
  {
   "cell_type": "code",
   "execution_count": 114,
   "id": "078ab45f",
   "metadata": {
    "pycharm": {
     "name": "#%%\n"
    }
   },
   "outputs": [
    {
     "data": {
      "text/html": [
       "<div>\n",
       "<style scoped>\n",
       "    .dataframe tbody tr th:only-of-type {\n",
       "        vertical-align: middle;\n",
       "    }\n",
       "\n",
       "    .dataframe tbody tr th {\n",
       "        vertical-align: top;\n",
       "    }\n",
       "\n",
       "    .dataframe thead th {\n",
       "        text-align: right;\n",
       "    }\n",
       "</style>\n",
       "<table border=\"1\" class=\"dataframe\">\n",
       "  <thead>\n",
       "    <tr style=\"text-align: right;\">\n",
       "      <th></th>\n",
       "      <th>id</th>\n",
       "      <th>user_id</th>\n",
       "      <th>movie_id</th>\n",
       "      <th>views_time</th>\n",
       "      <th>movie_time</th>\n",
       "      <th>event_time</th>\n",
       "    </tr>\n",
       "  </thead>\n",
       "  <tbody>\n",
       "    <tr>\n",
       "      <th>0</th>\n",
       "      <td>0</td>\n",
       "      <td>44699f18-e1f2-4ecf-bd79-b5b34896757d</td>\n",
       "      <td>80819ce6-8266-425f-9e40-ac48732aeefc</td>\n",
       "      <td>15280</td>\n",
       "      <td>6345</td>\n",
       "      <td>2022-12-23 22:56:37.646839</td>\n",
       "    </tr>\n",
       "    <tr>\n",
       "      <th>1</th>\n",
       "      <td>1</td>\n",
       "      <td>7a169ccd-1885-48d0-90c6-a0fda6e4a1de</td>\n",
       "      <td>0aa12756-52a8-4e1a-9c45-a23a2f09f27f</td>\n",
       "      <td>15458</td>\n",
       "      <td>24974</td>\n",
       "      <td>2022-12-23 22:56:37.657832</td>\n",
       "    </tr>\n",
       "    <tr>\n",
       "      <th>2</th>\n",
       "      <td>2</td>\n",
       "      <td>f3ee00c2-5ab4-4388-947e-9003340ada16</td>\n",
       "      <td>36153728-96cd-4a6c-a085-24cf81f1a747</td>\n",
       "      <td>867</td>\n",
       "      <td>35371</td>\n",
       "      <td>2022-12-23 22:56:37.657912</td>\n",
       "    </tr>\n",
       "    <tr>\n",
       "      <th>3</th>\n",
       "      <td>3</td>\n",
       "      <td>af16cedc-aa9b-4f41-b2b9-35b45bd031a7</td>\n",
       "      <td>04714c8e-f720-4dc6-92a8-66e9068f04f9</td>\n",
       "      <td>22079</td>\n",
       "      <td>1687</td>\n",
       "      <td>2022-12-23 22:56:37.657915</td>\n",
       "    </tr>\n",
       "    <tr>\n",
       "      <th>4</th>\n",
       "      <td>4</td>\n",
       "      <td>647a3948-d905-4356-8aa5-a2a24f878547</td>\n",
       "      <td>73ab4320-7c07-4058-b08a-abb6dfda9081</td>\n",
       "      <td>9868</td>\n",
       "      <td>20293</td>\n",
       "      <td>2022-12-23 22:56:37.657917</td>\n",
       "    </tr>\n",
       "  </tbody>\n",
       "</table>\n",
       "</div>"
      ],
      "text/plain": [
       "   id                               user_id  \\\n",
       "0   0  44699f18-e1f2-4ecf-bd79-b5b34896757d   \n",
       "1   1  7a169ccd-1885-48d0-90c6-a0fda6e4a1de   \n",
       "2   2  f3ee00c2-5ab4-4388-947e-9003340ada16   \n",
       "3   3  af16cedc-aa9b-4f41-b2b9-35b45bd031a7   \n",
       "4   4  647a3948-d905-4356-8aa5-a2a24f878547   \n",
       "\n",
       "                               movie_id  views_time  movie_time  \\\n",
       "0  80819ce6-8266-425f-9e40-ac48732aeefc       15280        6345   \n",
       "1  0aa12756-52a8-4e1a-9c45-a23a2f09f27f       15458       24974   \n",
       "2  36153728-96cd-4a6c-a085-24cf81f1a747         867       35371   \n",
       "3  04714c8e-f720-4dc6-92a8-66e9068f04f9       22079        1687   \n",
       "4  73ab4320-7c07-4058-b08a-abb6dfda9081        9868       20293   \n",
       "\n",
       "                   event_time  \n",
       "0  2022-12-23 22:56:37.646839  \n",
       "1  2022-12-23 22:56:37.657832  \n",
       "2  2022-12-23 22:56:37.657912  \n",
       "3  2022-12-23 22:56:37.657915  \n",
       "4  2022-12-23 22:56:37.657917  "
      ]
     },
     "execution_count": 114,
     "metadata": {},
     "output_type": "execute_result"
    }
   ],
   "source": [
    "df.head()"
   ]
  },
  {
   "cell_type": "code",
   "execution_count": 115,
   "id": "f0220049",
   "metadata": {
    "pycharm": {
     "name": "#%%\n"
    }
   },
   "outputs": [],
   "source": [
    "list_of_tuples = list_of_tuples[:1000]"
   ]
  },
  {
   "cell_type": "markdown",
   "id": "180c237f",
   "metadata": {
    "pycharm": {
     "name": "#%% md\n"
    }
   },
   "source": [
    "## Вставка  "
   ]
  },
  {
   "cell_type": "markdown",
   "id": "5e28c695",
   "metadata": {
    "pycharm": {
     "name": "#%% md\n"
    }
   },
   "source": [
    "### 1000 строк по 5 шагов "
   ]
  },
  {
   "cell_type": "code",
   "execution_count": 116,
   "id": "796943f1",
   "metadata": {
    "pycharm": {
     "name": "#%%\n"
    }
   },
   "outputs": [
    {
     "name": "stdout",
     "output_type": "stream",
     "text": [
      "CPU times: user 172 ms, sys: 53.4 ms, total: 226 ms\n",
      "Wall time: 42.7 s\n"
     ]
    }
   ],
   "source": [
    "%%time\n",
    "step = 5\n",
    "for i in range(0, len(list_of_tuples), step):\n",
    "    batch = list_of_tuples[i:i+step].copy()\n",
    "    cursor.executemany('INSERT INTO views (id, user_id, movie_id, views_time, movie_time, event_time) VALUES '\n",
    "                       '(?, ?, ?, ?, ?, ?)',\n",
    "                       batch, use_prepared_statements=True)\n"
   ]
  },
  {
   "cell_type": "markdown",
   "id": "125af478",
   "metadata": {
    "pycharm": {
     "name": "#%% md\n"
    }
   },
   "source": [
    "### 1000 строк по 3 шага "
   ]
  },
  {
   "cell_type": "code",
   "execution_count": 117,
   "id": "020cf54f",
   "metadata": {
    "pycharm": {
     "name": "#%%\n"
    }
   },
   "outputs": [
    {
     "name": "stdout",
     "output_type": "stream",
     "text": [
      "CPU times: user 223 ms, sys: 57.3 ms, total: 280 ms\n",
      "Wall time: 37.4 s\n"
     ]
    }
   ],
   "source": [
    "%%time\n",
    "step = 3\n",
    "for i in range(0, len(list_of_tuples), step): \n",
    "    batch = list_of_tuples[i:i+step].copy()\n",
    "    cursor.executemany('INSERT INTO views (id, user_id, movie_id, views_time, movie_time, event_time) VALUES '\n",
    "                       '(?, ?, ?, ?, ?, ?)',\n",
    "                       batch, use_prepared_statements=True)"
   ]
  },
  {
   "cell_type": "markdown",
   "id": "90866f3c",
   "metadata": {
    "pycharm": {
     "name": "#%% md\n"
    }
   },
   "source": [
    "### 1000 строк по 1 шагу"
   ]
  },
  {
   "cell_type": "code",
   "execution_count": 118,
   "id": "e6e5e4b9",
   "metadata": {
    "pycharm": {
     "name": "#%%\n"
    }
   },
   "outputs": [
    {
     "name": "stdout",
     "output_type": "stream",
     "text": [
      "CPU times: user 424 ms, sys: 89.5 ms, total: 513 ms\n",
      "Wall time: 38.4 s\n"
     ]
    }
   ],
   "source": [
    "%%time\n",
    "\n",
    "for i in range(len(list_of_tuples)):\n",
    "    cursor.execute(f\"INSERT INTO views (id, user_id, movie_id, views_time, movie_time, event_time) VALUES ({list_of_tuples[i][0]}, '{list_of_tuples[i][1]}', '{list_of_tuples[i][2]}', {list_of_tuples[i][3]}, {list_of_tuples[i][4]}, '{list_of_tuples[i][5]}')\")\n",
    "\n"
   ]
  },
  {
   "cell_type": "markdown",
   "id": "9af884cc",
   "metadata": {
    "pycharm": {
     "name": "#%% md\n"
    }
   },
   "source": [
    "### Вставка всего файла "
   ]
  },
  {
   "cell_type": "code",
   "execution_count": 119,
   "id": "9fc8688f",
   "metadata": {
    "pycharm": {
     "name": "#%%\n"
    }
   },
   "outputs": [
    {
     "name": "stdout",
     "output_type": "stream",
     "text": [
      "CPU times: user 477 ms, sys: 736 ms, total: 1.21 s\n",
      "Wall time: 2min 33s\n"
     ]
    },
    {
     "data": {
      "text/plain": [
       "<vertica_python.vertica.cursor.Cursor at 0x7fa297effb20>"
      ]
     },
     "execution_count": 119,
     "metadata": {},
     "output_type": "execute_result"
    }
   ],
   "source": [
    "%%time\n",
    "\n",
    "cursor.execute(f\"COPY views FROM LOCAL '{filename}' PARSER fcsvparser();\")"
   ]
  },
  {
   "cell_type": "code",
   "execution_count": null,
   "id": "8f1abb67",
   "metadata": {
    "pycharm": {
     "name": "#%%\n"
    }
   },
   "outputs": [],
   "source": []
  },
  {
   "cell_type": "markdown",
   "id": "074efb83",
   "metadata": {
    "pycharm": {
     "name": "#%% md\n"
    }
   },
   "source": [
    "## Чтение"
   ]
  },
  {
   "cell_type": "markdown",
   "id": "f09644b6",
   "metadata": {
    "pycharm": {
     "name": "#%% md\n"
    }
   },
   "source": [
    "### Чтение 1500000 строк"
   ]
  },
  {
   "cell_type": "code",
   "execution_count": 124,
   "id": "2c7f0e0d",
   "metadata": {
    "pycharm": {
     "name": "#%%\n"
    }
   },
   "outputs": [
    {
     "name": "stdout",
     "output_type": "stream",
     "text": [
      "CPU times: user 47.8 s, sys: 3.39 s, total: 51.2 s\n",
      "Wall time: 1min 4s\n"
     ]
    }
   ],
   "source": [
    "%%time\n",
    "\n",
    "for _ in range(500):\n",
    "    data = cursor.execute(\"\"\"SELECT * FROM views;\"\"\").fetchall()\n"
   ]
  },
  {
   "cell_type": "code",
   "execution_count": 126,
   "id": "dbbb7496",
   "metadata": {
    "pycharm": {
     "name": "#%%\n"
    }
   },
   "outputs": [
    {
     "name": "stdout",
     "output_type": "stream",
     "text": [
      "CPU times: user 2.47 ms, sys: 2.09 ms, total: 4.55 ms\n",
      "Wall time: 33.7 ms\n"
     ]
    }
   ],
   "source": [
    "%%time\n",
    "data  = cursor.execute(\"\"\"SELECT * FROM views WHERE user_id='647a3948-d905-4356-8aa5-a2a24f878547';\"\"\").fetchall()\n"
   ]
  },
  {
   "cell_type": "code",
   "execution_count": null,
   "id": "4df09322",
   "metadata": {
    "pycharm": {
     "name": "#%%\n"
    }
   },
   "outputs": [],
   "source": []
  },
  {
   "cell_type": "markdown",
   "id": "40f7fbdb",
   "metadata": {
    "pycharm": {
     "name": "#%% md\n"
    }
   },
   "source": [
    "## Результат "
   ]
  },
  {
   "cell_type": "markdown",
   "id": "5885925c",
   "metadata": {
    "pycharm": {
     "name": "#%% md\n"
    }
   },
   "source": [
    "Далее проверять нет смысла, поскольку при вставке в 10млн строк Clickhouse отрабатывает за 57.1 секунду. На таких же данных Vertica пачками вставляет дольше 15мин (падает в какой-то момент). При вставке 1000 строк по 3 шага Vertica отрабатывает за 37.4 s секунды, Clickhouse за 4.35 s -> Clickhouse лучше подходит для вставки данных."
   ]
  },
  {
   "cell_type": "markdown",
   "id": "6fd2ec0d",
   "metadata": {
    "pycharm": {
     "name": "#%% md\n"
    }
   },
   "source": [
    "При чтении 1.5 млн строк Vertica отрабатывает за 1min 4s, Clickhouse за 22.3 s.\n",
    "При поиске определенной записи Vertica работает лучше Clickhouse - 413 ms, Vertica - 33.7 ms.\n",
    "Однако это единственный параметр, по которому Vertica лидирует -> выбираем Clickhouse."
   ]
  },
  {
   "cell_type": "code",
   "execution_count": null,
   "id": "d4b1f3cb",
   "metadata": {
    "pycharm": {
     "name": "#%%\n"
    }
   },
   "outputs": [],
   "source": []
  }
 ],
 "metadata": {
  "kernelspec": {
   "display_name": "Python 3 (ipykernel)",
   "language": "python",
   "name": "python3"
  },
  "language_info": {
   "codemirror_mode": {
    "name": "ipython",
    "version": 3
   },
   "file_extension": ".py",
   "mimetype": "text/x-python",
   "name": "python",
   "nbconvert_exporter": "python",
   "pygments_lexer": "ipython3",
   "version": "3.10.8"
  }
 },
 "nbformat": 4,
 "nbformat_minor": 5
}